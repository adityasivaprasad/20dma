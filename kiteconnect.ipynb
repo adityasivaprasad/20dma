{
 "cells": [
  {
   "cell_type": "code",
   "execution_count": 63,
   "id": "19d8ce83-0b94-48cb-9053-a053ad9fa20b",
   "metadata": {},
   "outputs": [],
   "source": [
    "#Find 20 Day Moving Average of NIFTY\n",
    "import pandas as pd\n",
    "from datetime import datetime\n",
    "import requests"
   ]
  },
  {
   "cell_type": "code",
   "execution_count": 3,
   "id": "f645c386-60fe-471f-bd4a-8ba047ccb24a",
   "metadata": {},
   "outputs": [],
   "source": [
    "enctoken=\"SD8LTXhtEPno49hNQHwsOfTaEq9spakQLIkNFxZXKP8ZfcBXGVdDyaonou8+eJ+3zO1kBz3HtE8UjGDE6K7Xk41luaiW1T00zKjgF8mpOr4igyYI/uH0Eg==\""
   ]
  },
  {
   "cell_type": "code",
   "execution_count": 25,
   "id": "bd7de02c-7eb1-47df-9f5a-a99f9e0135f0",
   "metadata": {},
   "outputs": [
    {
     "name": "stdout",
     "output_type": "stream",
     "text": [
      "2024-04-24\n",
      "2025-04-25\n"
     ]
    }
   ],
   "source": [
    "header={\n",
    "    \"Authorization\": f\"enctoken {enctoken}\"\n",
    "}\n",
    "startdate=datetime.strptime(\"2024-04-24\",\"%Y-%m-%d\").date()\n",
    "enddate=datetime.strptime(\"2025-04-25\",\"%Y-%m-%d\").date()\n",
    "print(startdate)\n",
    "print(enddate)"
   ]
  },
  {
   "cell_type": "code",
   "execution_count": 61,
   "id": "ca86685a-454c-4cd8-b7b2-871174d52f2c",
   "metadata": {},
   "outputs": [
    {
     "data": {
      "text/html": [
       "<div>\n",
       "<style scoped>\n",
       "    .dataframe tbody tr th:only-of-type {\n",
       "        vertical-align: middle;\n",
       "    }\n",
       "\n",
       "    .dataframe tbody tr th {\n",
       "        vertical-align: top;\n",
       "    }\n",
       "\n",
       "    .dataframe thead th {\n",
       "        text-align: right;\n",
       "    }\n",
       "</style>\n",
       "<table border=\"1\" class=\"dataframe\">\n",
       "  <thead>\n",
       "    <tr style=\"text-align: right;\">\n",
       "      <th></th>\n",
       "      <th>time</th>\n",
       "      <th>MA</th>\n",
       "    </tr>\n",
       "  </thead>\n",
       "  <tbody>\n",
       "    <tr>\n",
       "      <th>0</th>\n",
       "      <td>2024-04-24T09:15:00+0530</td>\n",
       "      <td>NaN</td>\n",
       "    </tr>\n",
       "    <tr>\n",
       "      <th>1</th>\n",
       "      <td>2024-04-24T10:15:00+0530</td>\n",
       "      <td>NaN</td>\n",
       "    </tr>\n",
       "    <tr>\n",
       "      <th>2</th>\n",
       "      <td>2024-04-24T11:15:00+0530</td>\n",
       "      <td>NaN</td>\n",
       "    </tr>\n",
       "    <tr>\n",
       "      <th>3</th>\n",
       "      <td>2024-04-24T12:15:00+0530</td>\n",
       "      <td>NaN</td>\n",
       "    </tr>\n",
       "    <tr>\n",
       "      <th>4</th>\n",
       "      <td>2024-04-24T13:15:00+0530</td>\n",
       "      <td>NaN</td>\n",
       "    </tr>\n",
       "    <tr>\n",
       "      <th>...</th>\n",
       "      <td>...</td>\n",
       "      <td>...</td>\n",
       "    </tr>\n",
       "    <tr>\n",
       "      <th>1735</th>\n",
       "      <td>2025-04-25T11:15:00+0530</td>\n",
       "      <td>24200.4475</td>\n",
       "    </tr>\n",
       "    <tr>\n",
       "      <th>1736</th>\n",
       "      <td>2025-04-25T12:15:00+0530</td>\n",
       "      <td>24193.8650</td>\n",
       "    </tr>\n",
       "    <tr>\n",
       "      <th>1737</th>\n",
       "      <td>2025-04-25T13:15:00+0530</td>\n",
       "      <td>24189.6625</td>\n",
       "    </tr>\n",
       "    <tr>\n",
       "      <th>1738</th>\n",
       "      <td>2025-04-25T14:15:00+0530</td>\n",
       "      <td>24185.6075</td>\n",
       "    </tr>\n",
       "    <tr>\n",
       "      <th>1739</th>\n",
       "      <td>2025-04-25T15:15:00+0530</td>\n",
       "      <td>24175.7125</td>\n",
       "    </tr>\n",
       "  </tbody>\n",
       "</table>\n",
       "<p>1740 rows × 2 columns</p>\n",
       "</div>"
      ],
      "text/plain": [
       "                          time          MA\n",
       "0     2024-04-24T09:15:00+0530         NaN\n",
       "1     2024-04-24T10:15:00+0530         NaN\n",
       "2     2024-04-24T11:15:00+0530         NaN\n",
       "3     2024-04-24T12:15:00+0530         NaN\n",
       "4     2024-04-24T13:15:00+0530         NaN\n",
       "...                        ...         ...\n",
       "1735  2025-04-25T11:15:00+0530  24200.4475\n",
       "1736  2025-04-25T12:15:00+0530  24193.8650\n",
       "1737  2025-04-25T13:15:00+0530  24189.6625\n",
       "1738  2025-04-25T14:15:00+0530  24185.6075\n",
       "1739  2025-04-25T15:15:00+0530  24175.7125\n",
       "\n",
       "[1740 rows x 2 columns]"
      ]
     },
     "execution_count": 61,
     "metadata": {},
     "output_type": "execute_result"
    }
   ],
   "source": [
    "#?user_id=MON945&oi=1&from=2024-04-24&to=2025-04-25\n",
    "token=256265\n",
    "tf=\"60minute\"\n",
    "url=f\"https://kite.zerodha.com/oms/instruments/historical/{token}/{tf}\"\n",
    "param={\n",
    "    \"oi\":1,\n",
    "    \"from\":startdate,\n",
    "    \"to\":enddate\n",
    "}\n",
    "session= requests.session()\n",
    "data=session.get(url, params=param, headers=header).json()[\"data\"][\"candles\"]\n",
    "df=pd.DataFrame(data)\n",
    "df.columns=[\"time\",\"open\",\"high\",\"low\",\"close\",\"vol\",\"OI\"]\n",
    "df[[\"time\",\"open\",\"high\",\"low\",\"close\"]]\n",
    "df[\"MA\"]=df[\"close\"].rolling(window=20).mean()\n",
    "df[[\"time\",\"MA\"]]"
   ]
  }
 ],
 "metadata": {
  "kernelspec": {
   "display_name": "Python [conda env:base] *",
   "language": "python",
   "name": "conda-base-py"
  },
  "language_info": {
   "codemirror_mode": {
    "name": "ipython",
    "version": 3
   },
   "file_extension": ".py",
   "mimetype": "text/x-python",
   "name": "python",
   "nbconvert_exporter": "python",
   "pygments_lexer": "ipython3",
   "version": "3.12.7"
  }
 },
 "nbformat": 4,
 "nbformat_minor": 5
}
